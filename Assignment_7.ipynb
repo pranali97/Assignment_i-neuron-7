{
 "cells": [
  {
   "cell_type": "code",
   "execution_count": null,
   "metadata": {},
   "outputs": [],
   "source": [
    "Q.1. Create two int type variables, apply addition, subtraction, division and multiplications\n",
    "and store the results in variables. Then print the data in the following format by calling the\n",
    "variables:\n",
    "First variable is __ & second variable is __.\n",
    "Addition: __ + __ = __\n",
    "Subtraction: __ - __ = __\n",
    "Multiplication: __ * __ = __\n",
    "Division: __ / __ = __\n"
   ]
  },
  {
   "cell_type": "code",
   "execution_count": 4,
   "metadata": {},
   "outputs": [
    {
     "name": "stdout",
     "output_type": "stream",
     "text": [
      "First variable is 10 & second variable is 5\n",
      "Addition: 10 + 5 = 15\n",
      "Subtraction: 10 - 5 = 5\n",
      "Multiplication: 10 * 5 = 50\n",
      "Division: 10 / 5 = 2.0\n"
     ]
    }
   ],
   "source": [
    "First_variable = 10\n",
    "second_variable = 5\n",
    "Addition_result = First_variable + second_variable\n",
    "Subtraction_result = First_variable - second_variable\n",
    "Multiplication_result = First_variable * second_variable \n",
    "Division_result = First_variable / second_variable\n",
    "\n",
    "print(\"First variable is\", First_variable, \"&\", \"second variable is\", second_variable)\n",
    "print(\"Addition:\",First_variable, \"+\", second_variable, \"=\", Addition_result)\n",
    "print(\"Subtraction:\",First_variable, \"-\", second_variable, \"=\", Subtraction_result)\n",
    "print(\"Multiplication:\",First_variable, \"*\", second_variable, \"=\", Multiplication_result)\n",
    "print(\"Division:\",First_variable, \"/\", second_variable, \"=\", Division_result)"
   ]
  },
  {
   "cell_type": "code",
   "execution_count": null,
   "metadata": {},
   "outputs": [],
   "source": [
    "Q.2. What is the difference between the following operators:\n",
    "(i) ‘/’ & ‘//’\n",
    "(ii) ‘**’ & ‘^’"
   ]
  },
  {
   "cell_type": "code",
   "execution_count": 7,
   "metadata": {},
   "outputs": [
    {
     "name": "stdout",
     "output_type": "stream",
     "text": [
      "2.3333333333333335\n"
     ]
    }
   ],
   "source": [
    "1. \"/\" (forward slash) operator: This is the regular division operator. It performs floating point \n",
    "    division, meaning it returns a floating-point(decimal) result even if the operands are integers\n",
    "    for ex : \n",
    "result = 7/3\n",
    "print(result)     "
   ]
  },
  {
   "cell_type": "code",
   "execution_count": 10,
   "metadata": {},
   "outputs": [
    {
     "name": "stdout",
     "output_type": "stream",
     "text": [
      "2\n"
     ]
    }
   ],
   "source": [
    "2. \"//\"(Double Forward Slash) operator: This is the floor division operator. It performs integer division,\n",
    "    returning the quotiont as an integer without any fractional part. The result is the largest integer\n",
    "    less than or equal to the actual division result for ex: \n",
    "result = 7//3\n",
    "print(result) "
   ]
  },
  {
   "cell_type": "code",
   "execution_count": 11,
   "metadata": {},
   "outputs": [
    {
     "name": "stdout",
     "output_type": "stream",
     "text": [
      "8\n"
     ]
    }
   ],
   "source": [
    "(ii) ‘**’ & ‘^’\n",
    "The operators \"**\" and \"^\" are both related to exponentiation, but they are different: \n",
    "1.Double Asterisk (**): This is the exponentiation operator. It raises the left operand to the power of\n",
    "    the right operand for ex: \n",
    "result = 2 ** 3\n",
    "print(result) "
   ]
  },
  {
   "cell_type": "code",
   "execution_count": 14,
   "metadata": {},
   "outputs": [
    {
     "name": "stdout",
     "output_type": "stream",
     "text": [
      "6\n"
     ]
    }
   ],
   "source": [
    "2. Bitwise operator(^): \n",
    "    This is the bitwise XOR (exclusive OR)operator. It performs a bitwise XOR operation on the binary \n",
    "    representations of the operands. It's used in binary arithmetic and is not used for exponentiation.\n",
    "    For example:\n",
    "result = 5 ^ 3\n",
    "print(result)"
   ]
  },
  {
   "cell_type": "code",
   "execution_count": null,
   "metadata": {},
   "outputs": [],
   "source": [
    "Q.3. List the logical operators."
   ]
  },
  {
   "cell_type": "code",
   "execution_count": null,
   "metadata": {},
   "outputs": [],
   "source": [
    "1. 'and': This operator returns 'True'. If both the operands are true,\n",
    "    otherwise it returns 'False'.\n",
    "    \n",
    "2. 'or': This operator returns 'True'. If at least one of the operands is true, otherwise it returns\n",
    "    'False'. \n",
    "\n",
    "3.'not': This operator returns the opposite of the operands boolean value. If the operator is 'True',\n",
    "    it returns 'False', and if the operand is 'False' it returns 'True'. \n",
    "\n",
    "These operators are often used to combine and manipulate boolean values in \n",
    "conditional statements and logical expressions.\n",
    "    "
   ]
  },
  {
   "cell_type": "code",
   "execution_count": null,
   "metadata": {},
   "outputs": [],
   "source": [
    "Q.4. Explain right shift operator and left shift operator with examples.\n",
    "Right Shift Operator (>>):\n",
    "The right shift operator (>>) is a bitwise operator that shifts the bits of a number to the right by a \n",
    "specified number of positions. It effectively divides the number by 2 to the power of the shift amount \n",
    "and discards the remainder. The rightmost bits are shifted out, and zeros are shifted in from the left.\n",
    "\n",
    "Left Shift Operator (<<):\n",
    "The left shift operator (<<) is a bitwise operator that shifts the bits of a number to the left by a \n",
    "specified number of positions. It effectively multiplies the number by 2 to the power of the shift \n",
    "amount. Zeros are shifted in from the right, and the leftmost bits are shifted out if they exceed the \n",
    "available bits.\n"
   ]
  },
  {
   "cell_type": "code",
   "execution_count": 16,
   "metadata": {},
   "outputs": [
    {
     "name": "stdout",
     "output_type": "stream",
     "text": [
      "4\n"
     ]
    }
   ],
   "source": [
    "result = 16 >> 2\n",
    "print(result)  #Binary 00100"
   ]
  },
  {
   "cell_type": "code",
   "execution_count": 17,
   "metadata": {},
   "outputs": [
    {
     "name": "stdout",
     "output_type": "stream",
     "text": [
      "20\n"
     ]
    }
   ],
   "source": [
    "\n",
    "result = 5 << 2\n",
    "print(result)"
   ]
  },
  {
   "cell_type": "code",
   "execution_count": 21,
   "metadata": {},
   "outputs": [],
   "source": [
    "Q.5. Create a list containing int type data of length 15. Then write a code to check if 10 is\n",
    "present in the list or not. "
   ]
  },
  {
   "cell_type": "code",
   "execution_count": 22,
   "metadata": {},
   "outputs": [
    {
     "name": "stdout",
     "output_type": "stream",
     "text": [
      "10 is present in the list\n"
     ]
    }
   ],
   "source": [
    "data= [5, 8, 15, 10, 20, 7, 12, 3, 18, 6, 11, 9, 14, 1, 4]\n",
    "if 10 in data:\n",
    "    print(\"10 is present in the list\")\n",
    "else:\n",
    "    print(\"10 is not present in the list\")"
   ]
  },
  {
   "cell_type": "code",
   "execution_count": null,
   "metadata": {},
   "outputs": [],
   "source": []
  },
  {
   "cell_type": "code",
   "execution_count": null,
   "metadata": {},
   "outputs": [],
   "source": []
  },
  {
   "cell_type": "code",
   "execution_count": null,
   "metadata": {},
   "outputs": [],
   "source": []
  },
  {
   "cell_type": "code",
   "execution_count": null,
   "metadata": {},
   "outputs": [],
   "source": []
  }
 ],
 "metadata": {
  "kernelspec": {
   "display_name": "Python 3",
   "language": "python",
   "name": "python3"
  },
  "language_info": {
   "codemirror_mode": {
    "name": "ipython",
    "version": 3
   },
   "file_extension": ".py",
   "mimetype": "text/x-python",
   "name": "python",
   "nbconvert_exporter": "python",
   "pygments_lexer": "ipython3",
   "version": "3.8.5"
  }
 },
 "nbformat": 4,
 "nbformat_minor": 4
}
